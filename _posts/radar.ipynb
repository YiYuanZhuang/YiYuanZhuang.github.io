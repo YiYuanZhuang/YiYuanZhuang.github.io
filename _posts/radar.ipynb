{
 "cells": [
  {
   "cell_type": "code",
   "execution_count": null,
   "id": "e62bf670",
   "metadata": {
    "vscode": {
     "languageId": "plaintext"
    }
   },
   "outputs": [],
   "source": [
    "import pandas as pd\n",
    "import matplotlib.pyplot as plt\n",
    "import numpy as np\n",
    "import ipywidgets as widgets\n",
    "from IPython.display import display, clear_output\n",
    "\n",
    "# Load the dataset\n",
    "df_normalized = pd.read_excel('df_normalized.xlsx')\n",
    "\n",
    "# Setup the plot\n",
    "fig, ax = plt.subplots(figsize=(8, 8), subplot_kw=dict(polar=True))\n",
    "plt.close(fig)  # 防止初始时显示空图\n",
    "\n",
    "# Function to create or update a radar chart\n",
    "def update_radar_chart(change):\n",
    "    municipality_name = select.value\n",
    "    if municipality_name in df_normalized.iloc[:, 0].values:\n",
    "        # Find the row for the municipality\n",
    "        row = df_normalized[df_normalized.iloc[:, 0] == municipality_name]\n",
    "        values = row.iloc[0, 1:].values  # Get values skipping the first column\n",
    "        labels = np.array(df_normalized.columns[1:])  # Facility types\n",
    "        num_vars = len(labels)\n",
    "        angles = np.linspace(0, 2 * np.pi, num_vars, endpoint=False).tolist()\n",
    "        angles += angles[:1]  # Close the plot\n",
    "        \n",
    "        # Calculate weighted scores for each metric\n",
    "        scores = values * np.array([0.39, 0.63, 0.7, 0.41, 0.56, 0.54, 0.66, 0.79])\n",
    "        scores = np.concatenate((scores, [scores[0]]))  # Close the scores for the plot\n",
    "        \n",
    "        # Clear the previous chart\n",
    "        ax.clear()\n",
    "        ax.plot(angles, scores, 'o-', linewidth=2, label='b')  # Plot lines\n",
    "        ax.fill(angles, scores, alpha=0.25)  # Fill area\n",
    "        ax.set_xticks(angles[:-1])\n",
    "        ax.set_xticklabels(labels)\n",
    "        ax.set_title(municipality_name, size=15, position=(0.5, 1.1))\n",
    "        \n",
    "        with output:\n",
    "            clear_output(wait=True)\n",
    "            display(fig)\n",
    "\n",
    "# Create widget elements\n",
    "select = widgets.Select(options=df_normalized.iloc[:, 0].tolist(), description='Municipalities:', rows=10)\n",
    "button = widgets.Button(description=\"Generate Radar Chart\")\n",
    "output = widgets.Output()\n",
    "\n",
    "# Link button to function\n",
    "button.on_click(update_radar_chart)\n",
    "\n",
    "# Display widgets\n",
    "display(select, button, output)"
   ]
  },
  {
   "cell_type": "code",
   "execution_count": null,
   "id": "ac50ca91",
   "metadata": {
    "vscode": {
     "languageId": "plaintext"
    }
   },
   "outputs": [],
   "source": []
  }
 ],
 "metadata": {
  "kernelspec": {
   "display_name": "Python 3 (ipykernel)",
   "language": "python",
   "name": "python3"
  },
  "language_info": {
   "codemirror_mode": {
    "name": "ipython",
    "version": 3
   },
   "file_extension": ".py",
   "mimetype": "text/x-python",
   "name": "python",
   "nbconvert_exporter": "python",
   "pygments_lexer": "ipython3",
   "version": "3.9.19"
  }
 },
 "nbformat": 4,
 "nbformat_minor": 5
}
